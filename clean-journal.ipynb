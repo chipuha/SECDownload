{
 "cells": [
  {
   "cell_type": "code",
   "execution_count": null,
   "metadata": {},
   "outputs": [],
   "source": []
  },
  {
   "cell_type": "code",
   "execution_count": null,
   "metadata": {},
   "outputs": [],
   "source": [
    "def ultimate_clean(df):\n",
    "    \"\"\"cleans the sec dataframe with every available option\n",
    "    :Parameters:\n",
    "        df: pandas dataframe\n",
    "            An SEC downloaded dataframe (currently only for form 4s)\n",
    "    \"\"\"\n",
    "\n",
    "def _clean_download(df): #need a better name\n",
    "    \"\"\"returns a cleaned SEC download dataframe. Columns cleaned: Director, \n",
    "    Officer, Officer Title (comming)\n",
    "    :Parameters:\n",
    "        df: pandas dataframe\n",
    "            An SEC downloaded dataframe\n",
    "    \"\"\"\n",
    "    convert_dict = {'0': 'false', \n",
    "                    '1': 'true',\n",
    "                   'True': 'true',\n",
    "                   'False': 'false'}\n",
    "    df['Director'].replace(convert_dict, inplace=True)\n",
    "    df['Officer'].replace(convert_dict, inplace=True)\n",
    "    df['Ten % Owner'].replace(convert_dict, inplace=True)\n",
    "    \n",
    "    return df\n",
    "\n",
    "def _correct_stock_tickers(row):\n",
    "    \"\"\"replaces the ticker symbol in a dataframe row after looking it up using the CIK \n",
    "    :Parameters:\n",
    "        row: the identy of the company\n",
    "    \"\"\"\n",
    "    url = 'https://www.sec.gov/include/ticker.txt'\n",
    "    \n",
    "    tickersciks = _download_one_threaded('https://www.sec.gov/include/ticker.txt').splitlines()\n",
    "    ticker = [x.split()[0] for x in tickersciks if row['Issuer CIK'] == x.split()[1]]\n",
    "    if len(ticker) > 0:\n",
    "        row['Issuer Ticker'] = ticker\n",
    "        return row\n",
    "    else:\n",
    "        return row\n",
    "    \n",
    "def _"
   ]
  }
 ],
 "metadata": {
  "kernelspec": {
   "display_name": "Python 3",
   "language": "python",
   "name": "python3"
  },
  "language_info": {
   "codemirror_mode": {
    "name": "ipython",
    "version": 3
   },
   "file_extension": ".py",
   "mimetype": "text/x-python",
   "name": "python",
   "nbconvert_exporter": "python",
   "pygments_lexer": "ipython3",
   "version": "3.6.10"
  }
 },
 "nbformat": 4,
 "nbformat_minor": 4
}
